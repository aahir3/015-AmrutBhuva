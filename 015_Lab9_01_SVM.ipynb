{
  "nbformat": 4,
  "nbformat_minor": 0,
  "metadata": {
    "colab": {
      "name": "015_Lab9_01_SVM.ipynb",
      "provenance": [],
      "collapsed_sections": []
    },
    "kernelspec": {
      "name": "python3",
      "display_name": "Python 3"
    },
    "language_info": {
      "name": "python"
    }
  },
  "cells": [
    {
      "cell_type": "markdown",
      "metadata": {
        "id": "PgWRJkpRRFOa"
      },
      "source": [
        "#Aim: To implement SVM using scikit-learn library and train it to classify Breast Cancer Data.\n",
        "\n",
        "##Key Terms: \n",
        "\n",
        "**Hyperplane:** A hyperplane is a decision plane which separates between a set of objects having different class memberships.\n",
        "\n",
        "**Support Vectors :** Support vectors are the data points, which are closest to the hyperplane. These points will define the separating line better by calculating margins.\n",
        "\n",
        "**Margin :** A margin is a gap between the two lines on the closest class points. This is calculated as the perpendicular distance from the line to support vectors or closest points. If the margin is larger in between the classes, then it is considered a good margin, a smaller margin is a bad margin.\n",
        "\n",
        "**SVM Kernel :** The SVM algorithm is implemented in practice using a kernel. A kernel transforms an input data space into the required form.\n",
        "\n",
        "**Linear Kernel :** A linear kernel can be used as normal dot product any two given observations. The product between two vectors is the sum of the multiplication of each pair of input values.\n",
        "\n",
        "$ K(x, xi) = sum(x * xi) $\n",
        "\n",
        "**Polynomial Kernel :** A polynomial kernel is a more generalized form of the linear kernel. The polynomial kernel can distinguish curved or nonlinear input space.\n",
        "$ K(x,xi) = 1 + sum(x * xi)^d$\n",
        "\n",
        "**RBF (Radial Basis Function) Kernel :** The Radial basis function kernel is a popular kernel function commonly used in support vector machine classification.RBF can map an input space in infinite dimensional space.\n",
        "$ K(x,xi) = exp(-gamma * sum((x xi^2)) $\n",
        "\n",
        "Here gamma is a parameter, which ranges from 0 to 1. A higher value of gamma will perfectly fit the training dataset, which causes over-fitting. Gamma=0.1 is considered to be a good default value. The value of gamma needs to be manually specified in the learning algorithm.\n"
      ]
    },
    {
      "cell_type": "markdown",
      "metadata": {
        "id": "HBLbfwu0Rklh"
      },
      "source": [
        "**Part A: Basic SVM with Linear Kernel**"
      ]
    },
    {
      "cell_type": "code",
      "metadata": {
        "id": "v2A3OS3iROTI"
      },
      "source": [
        "import sys, os\n",
        "import matplotlib.pyplot as plt\n",
        "from sklearn import svm\n",
        "from sklearn.model_selection import train_test_split\n",
        "import numpy as np"
      ],
      "execution_count": null,
      "outputs": []
    },
    {
      "cell_type": "code",
      "metadata": {
        "id": "Hl-wVBjVRRNQ",
        "colab": {
          "base_uri": "https://localhost:8080/"
        },
        "outputId": "a49ab677-7638-4181-c70d-95fbfef99f8f"
      },
      "source": [
        "# importing scikit learn with make_blobs\n",
        "from sklearn.datasets.samples_generator import make_blobs\n",
        "\n",
        "# creating datasets X containing n_samples\n",
        "# Y containing two classes\n",
        "X, Y = make_blobs(n_samples=500, centers=2, random_state=15, cluster_std=0.40)"
      ],
      "execution_count": null,
      "outputs": [
        {
          "output_type": "stream",
          "name": "stderr",
          "text": [
            "/usr/local/lib/python3.7/dist-packages/sklearn/utils/deprecation.py:144: FutureWarning: The sklearn.datasets.samples_generator module is  deprecated in version 0.22 and will be removed in version 0.24. The corresponding classes / functions should instead be imported from sklearn.datasets. Anything that cannot be imported from sklearn.datasets is now part of the private API.\n",
            "  warnings.warn(message, FutureWarning)\n"
          ]
        }
      ]
    },
    {
      "cell_type": "code",
      "metadata": {
        "id": "p9IHqX2gSLVK",
        "colab": {
          "base_uri": "https://localhost:8080/",
          "height": 233
        },
        "outputId": "95e40dd9-e378-4271-d7d2-831c54b1f36c"
      },
      "source": [
        "# plotting scatters\n",
        "plt.scatter(X[:, 0], X[:, 1], c=Y, s=50, cmap='spring');\n",
        "plt.show()"
      ],
      "execution_count": null,
      "outputs": [
        {
          "output_type": "display_data",
          "data": {
            "image/png": "[encoded data removed]",
            "text/plain": [
              "<Figure size 432x288 with 1 Axes>"
            ]
          },
          "metadata": {
            "needs_background": "light"
          }
        }
      ]
    },
    {
      "cell_type": "code",
      "metadata": {
        "id": "gKRsqdw6SNCK"
      },
      "source": [
        "# Split data to train and test on 80-20 ratio\n",
        "X_train, X_test, y_train, y_test = train_test_split(X, Y, test_size = 0.2,random_state=15)"
      ],
      "execution_count": null,
      "outputs": []
    },
    {
      "cell_type": "code",
      "metadata": {
        "id": "2V8Bvj53RZuR"
      },
      "source": [
        "# Create a linear SVM classifier\n",
        "lsc = svm.SVC(kernel='linear')"
      ],
      "execution_count": null,
      "outputs": []
    },
    {
      "cell_type": "code",
      "metadata": {
        "id": "yzQeqYjVRbwK",
        "colab": {
          "base_uri": "https://localhost:8080/"
        },
        "outputId": "3143ba75-dd49-4d40-b423-097594e60295"
      },
      "source": [
        "# Train classifier\n",
        "lsc.fit(X,Y)"
      ],
      "execution_count": null,
      "outputs": [
        {
          "output_type": "execute_result",
          "data": {
            "text/plain": [
              "SVC(C=1.0, break_ties=False, cache_size=200, class_weight=None, coef0=0.0,\n",
              "    decision_function_shape='ovr', degree=3, gamma='scale', kernel='linear',\n",
              "    max_iter=-1, probability=False, random_state=None, shrinking=True,\n",
              "    tol=0.001, verbose=False)"
            ]
          },
          "metadata": {},
          "execution_count": 6
        }
      ]
    },
    {
      "cell_type": "code",
      "metadata": {
        "id": "TRSYBZ0sSrPy"
      },
      "source": [
        "## Plot decision function on training and test data\n",
        "#plot_decision_function(X_train, y_train, X_test, y_test, lsc)"
      ],
      "execution_count": null,
      "outputs": []
    },
    {
      "cell_type": "code",
      "metadata": {
        "id": "buQw1IrqRd8h",
        "colab": {
          "base_uri": "https://localhost:8080/"
        },
        "outputId": "dfc3a10d-b61f-423e-f5c4-b3f531b5cfaa"
      },
      "source": [
        "# Make predictions on unseen test data\n",
        "lsc_predictions = lsc.predict(X_test)\n",
        "print(\"Accuracy: {}%\".format(lsc.score(X_test, y_test) * 100 ))"
      ],
      "execution_count": null,
      "outputs": [
        {
          "output_type": "stream",
          "name": "stdout",
          "text": [
            "Accuracy: 100.0%\n"
          ]
        }
      ]
    },
    {
      "cell_type": "code",
      "metadata": {
        "id": "qmuJjf54RfvB",
        "colab": {
          "base_uri": "https://localhost:8080/",
          "height": 286
        },
        "outputId": "5d4c5d04-a4fa-4a8f-fb26-e9733b8357fe"
      },
      "source": [
        "def make_meshgrid(x, y, h=.02):\n",
        "  x_min, x_max = x.min() - 1, x.max() + 1\n",
        "  y_min, y_max = y.min() - 1, y.max() + 1\n",
        "  xx, yy = np.meshgrid(np.arange(x_min, x_max, h), np.arange(y_min, y_max, h))\n",
        "  return xx, yy\n",
        "\n",
        "def plot_contours(ax, lsc, xx, yy, **params):\n",
        "  Z = lsc.predict(np.c_[xx.ravel(), yy.ravel()])\n",
        "  Z = Z.reshape(xx.shape)\n",
        "  out = ax.contourf(xx, yy, Z, **params)\n",
        "  return out\n",
        "  \n",
        "fig, ax = plt.subplots()\n",
        "# title for the plots\n",
        "title = ('Decision surface of linear SVC ')\n",
        "# Set-up grid for plotting.\n",
        "X0, X1 = X[:, 0], X[:, 1]\n",
        "xx, yy = make_meshgrid(X0, X1)\n",
        "plot_contours(ax, lsc, xx, yy, cmap=plt.cm.coolwarm, alpha=0.8)\n",
        "ax.scatter(X0, X1, c=Y, cmap=plt.cm.coolwarm, s=20, edgecolors='k')\n",
        "ax.set_ylabel('y label here')\n",
        "ax.set_xlabel('x label here')\n",
        "ax.set_xticks(())\n",
        "ax.set_yticks(())\n",
        "ax.set_title(title)\n",
        "ax.legend()\n",
        "plt.show()"
      ],
      "execution_count": null,
      "outputs": [
        {
          "output_type": "stream",
          "name": "stderr",
          "text": [
            "No handles with labels found to put in legend.\n"
          ]
        },
        {
          "output_type": "display_data",
          "data": {
            "image/png": "[encoded data removed]",
            "text/plain": [
              "<Figure size 432x288 with 1 Axes>"
            ]
          },
          "metadata": {}
        }
      ]
    },
    {
      "cell_type": "markdown",
      "metadata": {
        "id": "76Mw929sRiZR"
      },
      "source": [
        "**Part B : Breast Cancer Prediction Example**"
      ]
    },
    {
      "cell_type": "code",
      "metadata": {
        "id": "hY_xkrBhRmta"
      },
      "source": [
        "#Import scikit-learn dataset library\n",
        "from sklearn import datasets\n",
        "#Load dataset\n",
        "cancer = datasets.load_breast_cancer()"
      ],
      "execution_count": null,
      "outputs": []
    },
    {
      "cell_type": "code",
      "metadata": {
        "id": "gdBHl0LaRoNR",
        "colab": {
          "base_uri": "https://localhost:8080/"
        },
        "outputId": "4181ac63-6bc5-411d-837c-1f0ec08967d8"
      },
      "source": [
        "# print the names of the 13 features\n",
        "print(\"Features: \", cancer.feature_names)\n",
        "# print the label type of cancer('malignant' 'benign')\n",
        "print(\"Labels: \", cancer.target_names)"
      ],
      "execution_count": null,
      "outputs": [
        {
          "output_type": "stream",
          "name": "stdout",
          "text": [
            "Features:  ['mean radius' 'mean texture' 'mean perimeter' 'mean area'\n",
            " 'mean smoothness' 'mean compactness' 'mean concavity'\n",
            " 'mean concave points' 'mean symmetry' 'mean fractal dimension'\n",
            " 'radius error' 'texture error' 'perimeter error' 'area error'\n",
            " 'smoothness error' 'compactness error' 'concavity error'\n",
            " 'concave points error' 'symmetry error' 'fractal dimension error'\n",
            " 'worst radius' 'worst texture' 'worst perimeter' 'worst area'\n",
            " 'worst smoothness' 'worst compactness' 'worst concavity'\n",
            " 'worst concave points' 'worst symmetry' 'worst fractal dimension']\n",
            "Labels:  ['malignant' 'benign']\n"
          ]
        }
      ]
    },
    {
      "cell_type": "code",
      "metadata": {
        "id": "QQCwEzWzRplh",
        "colab": {
          "base_uri": "https://localhost:8080/"
        },
        "outputId": "ac96b88a-ecbd-41c0-f64d-cc4940a76a99"
      },
      "source": [
        "# print data(feature)shape\n",
        "cancer.data.shape"
      ],
      "execution_count": null,
      "outputs": [
        {
          "output_type": "execute_result",
          "data": {
            "text/plain": [
              "(569, 30)"
            ]
          },
          "metadata": {},
          "execution_count": 12
        }
      ]
    },
    {
      "cell_type": "code",
      "metadata": {
        "id": "ug9OLXwLRq-6",
        "colab": {
          "base_uri": "https://localhost:8080/"
        },
        "outputId": "e7c4ea3e-666f-44ea-c17c-d1fc233b42c4"
      },
      "source": [
        "# print the cancer labels (0:malignant, 1:benign)\n",
        "print(cancer.target)"
      ],
      "execution_count": null,
      "outputs": [
        {
          "output_type": "stream",
          "name": "stdout",
          "text": [
            "[0 0 0 0 0 0 0 0 0 0 0 0 0 0 0 0 0 0 0 1 1 1 0 0 0 0 0 0 0 0 0 0 0 0 0 0 0\n",
            " 1 0 0 0 0 0 0 0 0 1 0 1 1 1 1 1 0 0 1 0 0 1 1 1 1 0 1 0 0 1 1 1 1 0 1 0 0\n",
            " 1 0 1 0 0 1 1 1 0 0 1 0 0 0 1 1 1 0 1 1 0 0 1 1 1 0 0 1 1 1 1 0 1 1 0 1 1\n",
            " 1 1 1 1 1 1 0 0 0 1 0 0 1 1 1 0 0 1 0 1 0 0 1 0 0 1 1 0 1 1 0 1 1 1 1 0 1\n",
            " 1 1 1 1 1 1 1 1 0 1 1 1 1 0 0 1 0 1 1 0 0 1 1 0 0 1 1 1 1 0 1 1 0 0 0 1 0\n",
            " 1 0 1 1 1 0 1 1 0 0 1 0 0 0 0 1 0 0 0 1 0 1 0 1 1 0 1 0 0 0 0 1 1 0 0 1 1\n",
            " 1 0 1 1 1 1 1 0 0 1 1 0 1 1 0 0 1 0 1 1 1 1 0 1 1 1 1 1 0 1 0 0 0 0 0 0 0\n",
            " 0 0 0 0 0 0 0 1 1 1 1 1 1 0 1 0 1 1 0 1 1 0 1 0 0 1 1 1 1 1 1 1 1 1 1 1 1\n",
            " 1 0 1 1 0 1 0 1 1 1 1 1 1 1 1 1 1 1 1 1 1 0 1 1 1 0 1 0 1 1 1 1 0 0 0 1 1\n",
            " 1 1 0 1 0 1 0 1 1 1 0 1 1 1 1 1 1 1 0 0 0 1 1 1 1 1 1 1 1 1 1 1 0 0 1 0 0\n",
            " 0 1 0 0 1 1 1 1 1 0 1 1 1 1 1 0 1 1 1 0 1 1 0 0 1 1 1 1 1 1 0 1 1 1 1 1 1\n",
            " 1 0 1 1 1 1 1 0 1 1 0 1 1 1 1 1 1 1 1 1 1 1 1 0 1 0 0 1 0 1 1 1 1 1 0 1 1\n",
            " 0 1 0 1 1 0 1 0 1 1 1 1 1 1 1 1 0 0 1 1 1 1 1 1 0 1 1 1 1 1 1 1 1 1 1 0 1\n",
            " 1 1 1 1 1 1 0 1 0 1 1 0 1 1 1 1 1 0 0 1 0 1 0 1 1 1 1 1 0 1 1 0 1 0 1 0 0\n",
            " 1 1 1 0 1 1 1 1 1 1 1 1 1 1 1 0 1 0 0 1 1 1 1 1 1 1 1 1 1 1 1 1 1 1 1 1 1\n",
            " 1 1 1 1 1 1 1 0 0 0 0 0 0 1]\n"
          ]
        }
      ]
    },
    {
      "cell_type": "code",
      "metadata": {
        "id": "2hDPwrmBRsZq",
        "colab": {
          "base_uri": "https://localhost:8080/",
          "height": 234
        },
        "outputId": "2298a431-05b1-4e96-d98a-6e5550142a34"
      },
      "source": [
        "# plotting scatters\n",
        "plt.scatter(cancer.data[:, 0], cancer.data[:, 1], c=cancer.target, s=50,cmap='spring');\n",
        "plt.show()"
      ],
      "execution_count": null,
      "outputs": [
        {
          "output_type": "display_data",
          "data": {
            "image/png": "[encoded data removed]",
            "text/plain": [
              "<Figure size 432x288 with 1 Axes>"
            ]
          },
          "metadata": {
            "needs_background": "light"
          }
        }
      ]
    },
    {
      "cell_type": "code",
      "metadata": {
        "id": "xE4cC2MGRtwb"
      },
      "source": [
        "# Import train_test_split function\n",
        "from sklearn.model_selection import train_test_split"
      ],
      "execution_count": null,
      "outputs": []
    },
    {
      "cell_type": "code",
      "metadata": {
        "id": "Du6zsUdRqlpt"
      },
      "source": [
        "# Split dataset into training set and test set\n",
        "X_train, X_test, y_train, y_test = train_test_split(cancer.data, cancer.target, test_size = 0.2,random_state=15)"
      ],
      "execution_count": null,
      "outputs": []
    },
    {
      "cell_type": "code",
      "metadata": {
        "id": "TkpzU_8kRvFK"
      },
      "source": [
        "#Import svm model\n",
        "from sklearn import svm"
      ],
      "execution_count": null,
      "outputs": []
    },
    {
      "cell_type": "code",
      "metadata": {
        "id": "3U_mYRauqtoW"
      },
      "source": [
        "#Create a svm Classifier\n",
        "lsc = svm.SVC(kernel='linear') # Linear Kernel"
      ],
      "execution_count": null,
      "outputs": []
    },
    {
      "cell_type": "code",
      "metadata": {
        "colab": {
          "base_uri": "https://localhost:8080/"
        },
        "id": "dsEZ0YPTqws8",
        "outputId": "d3cffbb9-7d21-4140-8ad5-72502e4e1f89"
      },
      "source": [
        "#Train the model using the training sets\n",
        "lsc.fit(X_train,y_train)"
      ],
      "execution_count": null,
      "outputs": [
        {
          "output_type": "execute_result",
          "data": {
            "text/plain": [
              "SVC(C=1.0, break_ties=False, cache_size=200, class_weight=None, coef0=0.0,\n",
              "    decision_function_shape='ovr', degree=3, gamma='scale', kernel='linear',\n",
              "    max_iter=-1, probability=False, random_state=None, shrinking=True,\n",
              "    tol=0.001, verbose=False)"
            ]
          },
          "metadata": {},
          "execution_count": 19
        }
      ]
    },
    {
      "cell_type": "code",
      "metadata": {
        "id": "I4p1oC3FqzOc"
      },
      "source": [
        "#Predict the response for test dataset\n",
        "y_pred = lsc.predict(X_test)"
      ],
      "execution_count": null,
      "outputs": []
    },
    {
      "cell_type": "code",
      "metadata": {
        "id": "X43W7M1zRwar"
      },
      "source": [
        "#Import scikit-learn metrics module for accuracy calculation\n",
        "from sklearn import metrics"
      ],
      "execution_count": null,
      "outputs": []
    },
    {
      "cell_type": "code",
      "metadata": {
        "colab": {
          "base_uri": "https://localhost:8080/"
        },
        "id": "f4QlEDe0rH6k",
        "outputId": "3bb37aad-b72d-4548-d18b-c99ee4d0de8a"
      },
      "source": [
        "# Model Accuracy: how often is the classifier correct?\n",
        "print(\"Accuracy:\",metrics.accuracy_score(y_test, y_pred))"
      ],
      "execution_count": null,
      "outputs": [
        {
          "output_type": "stream",
          "name": "stdout",
          "text": [
            "Accuracy: 0.9210526315789473\n"
          ]
        }
      ]
    },
    {
      "cell_type": "code",
      "metadata": {
        "id": "9kREnsbGRxvC",
        "colab": {
          "base_uri": "https://localhost:8080/"
        },
        "outputId": "3a07973f-e5c2-4c72-e35a-c2ef04d0b6f7"
      },
      "source": [
        "# Model Precision: what percentage of positive tuples are labeled as such?\n",
        "print(\"Precision:\",metrics.precision_score(y_test, y_pred))\n",
        "# Model Recall: what percentage of positive tuples are labelled as such?\n",
        "print(\"Recall:\",metrics.recall_score(y_test, y_pred))"
      ],
      "execution_count": null,
      "outputs": [
        {
          "output_type": "stream",
          "name": "stdout",
          "text": [
            "Precision: 0.9342105263157895\n",
            "Recall: 0.9466666666666667\n"
          ]
        }
      ]
    },
    {
      "cell_type": "markdown",
      "metadata": {
        "id": "2WQ7GdptRzKh"
      },
      "source": [
        "**Assignment**:\n",
        "\n",
        "Try SVM classifier on MNIST dataset, compare the preformance of linear, polynomial and RBF kernels.\n"
      ]
    }
  ]
}