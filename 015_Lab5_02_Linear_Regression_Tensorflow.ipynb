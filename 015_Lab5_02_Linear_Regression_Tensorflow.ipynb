{
  "nbformat": 4,
  "nbformat_minor": 0,
  "metadata": {
    "colab": {
      "name": "015_Lab5_02_Linear_Regression_Tensorflow.ipynb",
      "provenance": [],
      "authorship_tag": "ABX9TyPEH0TIMu2HIZQgOHKefxSK",
      "include_colab_link": true
    },
    "kernelspec": {
      "name": "python3",
      "display_name": "Python 3"
    },
    "language_info": {
      "name": "python"
    }
  },
  "cells": [
    {
      "cell_type": "markdown",
      "metadata": {
        "id": "view-in-github",
        "colab_type": "text"
      },
      "source": [
        "<a href=\"https://colab.research.google.com/github/aahir3/CE015_Amrut_Bhuva/blob/main/015_Lab5_02_Linear_Regression_Tensorflow.ipynb\" target=\"_parent\"><img src=\"https://colab.research.google.com/assets/colab-badge.svg\" alt=\"Open In Colab\"/></a>"
      ]
    },
    {
      "cell_type": "code",
      "metadata": {
        "id": "lGo9ZpuOx2dQ"
      },
      "source": [
        "# Import Libraries\n",
        "import numpy as np\n",
        "import pandas as pd \n",
        "import tensorflow as tf\n",
        "import matplotlib.pyplot as plt\n",
        "import seaborn as sns\n",
        "\n",
        "from tensorflow import keras\n",
        "from tensorflow.keras import layers\n",
        "from tensorflow.keras.layers.experimental import preprocessing\n",
        "from sklearn.preprocessing import Normalizer\n",
        "import sklearn.preprocessing"
      ],
      "execution_count": 1,
      "outputs": []
    },
    {
      "cell_type": "markdown",
      "metadata": {
        "id": "Fh5-M4S1y28R"
      },
      "source": [
        "**Linear Regression Model using TensorFlow**\n",
        "\n"
      ]
    },
    {
      "cell_type": "code",
      "metadata": {
        "id": "P8rCfORkyhS8"
      },
      "source": [
        "# Input (temp, rainfall, humidity)\n",
        "inputs = np.array([[73, 67, 43], [91, 88, 64], [87, 134, 58], [102, 43, 37], [69, 96, 70], [73, 67, 43], [91, 88, 64], [87, 134, 58], [102, 43, 37], [69, 96, 70], [73, 67, 43], [91, 88, 64], [87, 134, 58], [102, 43, 37], [69, 96, 70]], dtype='float32')\n",
        "# Targets (apples)\n",
        "targets = np.array([[56], [81], [119], [22], [103], \n",
        "                    [56], [81], [119], [22], [103], \n",
        "                    [56], [81], [119], [22], [103]], dtype='float32')\n",
        "n = len(inputs) # Number of data points"
      ],
      "execution_count": 2,
      "outputs": []
    },
    {
      "cell_type": "code",
      "metadata": {
        "id": "Sx8ZIzHjzPAq"
      },
      "source": [
        "from sklearn.model_selection import train_test_split\n",
        "main_data = pd.DataFrame(inputs, columns = ['temp','rainfall','humidity'])\n",
        "Y_rows = pd.DataFrame(targets, columns = ['apples'])\n",
        "\n",
        "X_train, X_test, Y_train, Y_test = train_test_split(main_data, Y_rows, test_size = 0.30, random_state = 15)"
      ],
      "execution_count": 3,
      "outputs": []
    },
    {
      "cell_type": "code",
      "metadata": {
        "id": "3sK4gnXezUfX"
      },
      "source": [
        "test_results = {}"
      ],
      "execution_count": 4,
      "outputs": []
    },
    {
      "cell_type": "code",
      "metadata": {
        "colab": {
          "base_uri": "https://localhost:8080/"
        },
        "id": "aey_jsA3zgip",
        "outputId": "15ecbe9b-a76f-4e21-fa3a-97fd208cc6aa"
      },
      "source": [
        "norm_X_test = np.linalg.norm(X_test['rainfall'])\n",
        "norm_X_train = np.linalg.norm(X_train['rainfall'])\n",
        "# norm_Y_test = np.linalg.norm(Y_test['rainfall'])\n",
        "norm_Y_train = np.linalg.norm(Y_train['apples'])\n",
        "\n",
        "normal_array_X_test = X_test['rainfall']/norm_X_test\n",
        "normal_array_X_train = X_train['rainfall']/norm_X_train\n",
        "normal_array_Y_train = Y_train['apples']/norm_Y_train\n",
        "\n",
        "print(normal_array_X_train)\n",
        "print(normal_array_X_test)\n",
        "print(normal_array_Y_train)"
      ],
      "execution_count": 6,
      "outputs": [
        {
          "output_type": "stream",
          "name": "stdout",
          "text": [
            "6     0.331630\n",
            "11    0.331630\n",
            "3     0.162046\n",
            "10    0.252491\n",
            "0     0.252491\n",
            "7     0.504981\n",
            "13    0.162046\n",
            "12    0.504981\n",
            "5     0.252491\n",
            "8     0.162046\n",
            "Name: rainfall, dtype: float32\n",
            "14    0.415635\n",
            "2     0.580157\n",
            "9     0.415635\n",
            "4     0.415635\n",
            "1     0.380999\n",
            "Name: rainfall, dtype: float32\n",
            "6     0.354175\n",
            "11    0.354175\n",
            "3     0.096196\n",
            "10    0.244862\n",
            "0     0.244862\n",
            "7     0.520331\n",
            "13    0.096196\n",
            "12    0.520331\n",
            "5     0.244862\n",
            "8     0.096196\n",
            "Name: apples, dtype: float32\n"
          ]
        }
      ]
    },
    {
      "cell_type": "code",
      "metadata": {
        "colab": {
          "base_uri": "https://localhost:8080/"
        },
        "id": "f-4Tqfs6znQK",
        "outputId": "0e0c946e-4271-4fcf-d80f-803e9a0e1d02"
      },
      "source": [
        "normalizer = preprocessing.Normalization(axis = -1)\n",
        "normalizer.adapt(np.array(X_train))\n",
        "linear_model = tf.keras.Sequential([\n",
        "    normalizer,\n",
        "    layers.Dense(units = 1)\n",
        "])\n",
        "print(linear_model.predict(X_train[:9]))"
      ],
      "execution_count": 7,
      "outputs": [
        {
          "output_type": "stream",
          "name": "stdout",
          "text": [
            "[[ 0.9124211 ]\n",
            " [ 0.9124211 ]\n",
            " [-3.1656628 ]\n",
            " [ 0.83440566]\n",
            " [ 0.83440566]\n",
            " [ 2.584463  ]\n",
            " [-3.1656628 ]\n",
            " [ 2.584463  ]\n",
            " [ 0.83440566]]\n"
          ]
        }
      ]
    },
    {
      "cell_type": "code",
      "metadata": {
        "id": "nUAQQEpdzsFC"
      },
      "source": [
        "linear_model.compile(\n",
        "    optimizer=tf.optimizers.Adam(learning_rate = 0.1),\n",
        "    loss='mean_absolute_error')"
      ],
      "execution_count": 9,
      "outputs": []
    },
    {
      "cell_type": "code",
      "metadata": {
        "id": "tW5VDGaqz0JL"
      },
      "source": [
        "history = linear_model.fit(\n",
        "    X_train, Y_train, \n",
        "    epochs = 1000,\n",
        "    # suppress logging\n",
        "    verbose=0,\n",
        "    # Calculate validation results on 20% of the training data\n",
        "    validation_split = 0.2)"
      ],
      "execution_count": 10,
      "outputs": []
    },
    {
      "cell_type": "code",
      "metadata": {
        "colab": {
          "base_uri": "https://localhost:8080/"
        },
        "id": "_GQXIlInz7hz",
        "outputId": "0517928b-1796-43dc-b07d-b9eab1b99def"
      },
      "source": [
        "test_results['linear_model'] = linear_model.evaluate(\n",
        "    X_test, Y_test, verbose = 0)\n",
        "\n",
        "test_results['linear_model']"
      ],
      "execution_count": 11,
      "outputs": [
        {
          "output_type": "execute_result",
          "data": {
            "text/plain": [
              "2.644692897796631"
            ]
          },
          "metadata": {},
          "execution_count": 11
        }
      ]
    }
  ]
}